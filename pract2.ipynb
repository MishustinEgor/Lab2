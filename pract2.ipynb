{
 "cells": [
  {
   "cell_type": "markdown",
   "id": "1f7087dd-dfbd-4e98-afea-ab292be59d9e",
   "metadata": {},
   "source": [
    "Практические задания"
   ]
  },
  {
   "cell_type": "code",
   "execution_count": 1,
   "id": "2471c48d-6650-40d7-aad8-09aed6f8f33a",
   "metadata": {},
   "outputs": [
    {
     "name": "stdout",
     "output_type": "stream",
     "text": [
      "[[ 2  4  6]\n",
      " [ 8 10  0]\n",
      " [ 0  0  0]]\n"
     ]
    }
   ],
   "source": [
    "import numpy as np\n",
    "\n",
    "# Создаем массив 3x3 с числами от 1 до 9\n",
    "arr = np.arange(1, 10).reshape(3, 3)\n",
    "\n",
    "# Умножаем все элементы на 2\n",
    "arr *= 2\n",
    "\n",
    "# Заменяем элементы больше 10 на 0\n",
    "arr[arr > 10] = 0\n",
    "\n",
    "print(arr)"
   ]
  },
  {
   "cell_type": "code",
   "execution_count": 4,
   "id": "c60f7921-95a2-46f4-9b81-34708e5eba47",
   "metadata": {},
   "outputs": [
    {
     "name": "stdout",
     "output_type": "stream",
     "text": [
      "Элементы, кратные 5: [65 15 65 45 60 85]\n",
      "Обновленный массив: [13 38 31 12 67 -1 37 -1 81 -1 38 58 88 -1 -1 -1 52 31 66 91]\n"
     ]
    }
   ],
   "source": [
    "import numpy as np\n",
    "\n",
    "# Создаем массив из 20 случайных целых чисел от 1 до 100\n",
    "arr = np.random.randint(1, 101, 20)\n",
    "\n",
    "# Находим и выводим элементы, кратные 5\n",
    "divisible_by_5 = arr[arr % 5 == 0]\n",
    "print(\"Элементы, кратные 5:\", divisible_by_5)\n",
    "\n",
    "# Заменяем элементы кратные 5 на -1\n",
    "arr[arr % 5 == 0] = -1\n",
    "\n",
    "# Выводим обновленный массив\n",
    "print(\"Обновленный массив:\", arr)"
   ]
  },
  {
   "cell_type": "code",
   "execution_count": 7,
   "id": "f9f3b274-7e4d-40a9-808c-2592775ed780",
   "metadata": {},
   "outputs": [
    {
     "name": "stdout",
     "output_type": "stream",
     "text": [
      "Первый исходный массив:\n",
      " [[ 2 40 22 13 13]]\n",
      "Второй исходный массив:\n",
      " [[22 10 46 38 32]]\n",
      "\n",
      "Объединенный массив:\n",
      " [[ 2 40 22 13 13]\n",
      " [22 10 46 38 32]]\n",
      "\n",
      "Первый разделенный массив: [ 2 40 22 13 13]\n",
      "Второй разделенный массив: [22 10 46 38 32]\n"
     ]
    }
   ],
   "source": [
    "import numpy as np\n",
    "\n",
    "# Создаем два массива 1x5 со случайными числами от 0 до 50\n",
    "arr1 = np.random.randint(0, 51, (1, 5))\n",
    "arr2 = np.random.randint(0, 51, (1, 5))\n",
    "\n",
    "# Объединяем по строкам в массив 2x5\n",
    "combined = np.vstack((arr1, arr2))\n",
    "\n",
    "# Разделяем на два массива по 5 элементов каждый\n",
    "split1 = combined[0, :]  # Первая строка (5 элементов)\n",
    "split2 = combined[1, :]  # Вторая строка (5 элементов)\n",
    "\n",
    "print(\"Первый исходный массив:\\n\", arr1)\n",
    "print(\"Второй исходный массив:\\n\", arr2)\n",
    "print(\"\\nОбъединенный массив:\\n\", combined)\n",
    "print(\"\\nПервый разделенный массив:\", split1)\n",
    "print(\"Второй разделенный массив:\", split2)"
   ]
  },
  {
   "cell_type": "code",
   "execution_count": 10,
   "id": "4bca10a0-66ec-4043-8b55-02605033c5a3",
   "metadata": {},
   "outputs": [
    {
     "name": "stdout",
     "output_type": "stream",
     "text": [
      "Сумма всех элементов: 0.0\n",
      "Сумма положительных элементов: 127.55\n",
      "Сумма отрицательных элементов: -127.55\n"
     ]
    }
   ],
   "source": [
    "import numpy as np\n",
    "\n",
    "# Создаем массив из 50 равномерно распределенных чисел от -10 до 10\n",
    "arr = np.linspace(-10, 10, 50)\n",
    "\n",
    "# Вычисляем суммы\n",
    "total_sum = np.sum(arr)\n",
    "positive_sum = np.sum(arr[arr > 0])\n",
    "negative_sum = np.sum(arr[arr < 0])\n",
    "\n",
    "# Выводим результаты\n",
    "print(\"Сумма всех элементов:\", round(total_sum, 2))\n",
    "print(\"Сумма положительных элементов:\", round(positive_sum, 2))\n",
    "print(\"Сумма отрицательных элементов:\", round(negative_sum, 2))"
   ]
  },
  {
   "cell_type": "code",
   "execution_count": 13,
   "id": "e41eddd0-5d4d-4a63-a6f7-6e5220f7d24c",
   "metadata": {},
   "outputs": [
    {
     "name": "stdout",
     "output_type": "stream",
     "text": [
      "Единичная матрица:\n",
      " [[1. 0. 0. 0.]\n",
      " [0. 1. 0. 0.]\n",
      " [0. 0. 1. 0.]\n",
      " [0. 0. 0. 1.]]\n",
      "\n",
      "Диагональная матрица:\n",
      " [[ 5  0  0  0]\n",
      " [ 0 10  0  0]\n",
      " [ 0  0 15  0]\n",
      " [ 0  0  0 20]]\n",
      "\n",
      "Сумма элементов единичной матрицы: 4.0\n",
      "Сумма элементов диагональной матрицы: 50\n",
      "\n",
      "Сравнение сумм: Суммы различны\n"
     ]
    }
   ],
   "source": [
    "import numpy as np\n",
    "\n",
    "# Создаем единичную матрицу 4x4\n",
    "identity_matrix = np.eye(4)\n",
    "\n",
    "# Создаем диагональную матрицу с заданными элементами\n",
    "diagonal_matrix = np.diag([5, 10, 15, 20])\n",
    "\n",
    "# Вычисляем суммы элементов\n",
    "sum_identity = np.sum(identity_matrix)\n",
    "sum_diagonal = np.sum(diagonal_matrix)\n",
    "\n",
    "# Выводим результаты\n",
    "print(\"Единичная матрица:\\n\", identity_matrix)\n",
    "print(\"\\nДиагональная матрица:\\n\", diagonal_matrix)\n",
    "print(\"\\nСумма элементов единичной матрицы:\", sum_identity)\n",
    "print(\"Сумма элементов диагональной матрицы:\", sum_diagonal)\n",
    "print(\"\\nСравнение сумм:\", \n",
    "      \"Суммы равны\" if sum_identity == sum_diagonal else \"Суммы различны\")"
   ]
  },
  {
   "cell_type": "code",
   "execution_count": 16,
   "id": "c54fa5a7-b5b0-4fac-a1a3-4148616d2648",
   "metadata": {},
   "outputs": [
    {
     "name": "stdout",
     "output_type": "stream",
     "text": [
      "Первая матрица:\n",
      " [[17  3 18]\n",
      " [20  9  8]\n",
      " [ 2 17  7]]\n",
      "\n",
      "Вторая матрица:\n",
      " [[17  6 12]\n",
      " [17  7 15]\n",
      " [ 5  9 14]]\n",
      "\n",
      "Сумма матриц:\n",
      " [[34  9 30]\n",
      " [37 16 23]\n",
      " [ 7 26 21]]\n",
      "\n",
      "Разность матриц (Первая - Вторая):\n",
      " [[ 0 -3  6]\n",
      " [ 3  2 -7]\n",
      " [-3  8 -7]]\n",
      "\n",
      "Поэлементное произведение:\n",
      " [[289  18 216]\n",
      " [340  63 120]\n",
      " [ 10 153  98]]\n"
     ]
    }
   ],
   "source": [
    "import numpy as np\n",
    "\n",
    "# Создаем две матрицы 3x3 со случайными числами от 1 до 20\n",
    "matrix1 = np.random.randint(1, 21, size=(3, 3))\n",
    "matrix2 = np.random.randint(1, 21, size=(3, 3))\n",
    "\n",
    "# Вычисляем операции\n",
    "sum_matrix = matrix1 + matrix2\n",
    "diff_matrix = matrix1 - matrix2\n",
    "prod_matrix = matrix1 * matrix2\n",
    "\n",
    "# Выводим результаты\n",
    "print(\"Первая матрица:\\n\", matrix1)\n",
    "print(\"\\nВторая матрица:\\n\", matrix2)\n",
    "print(\"\\nСумма матриц:\\n\", sum_matrix)\n",
    "print(\"\\nРазность матриц (Первая - Вторая):\\n\", diff_matrix)\n",
    "print(\"\\nПоэлементное произведение:\\n\", prod_matrix)"
   ]
  },
  {
   "cell_type": "code",
   "execution_count": 20,
   "id": "856f7a0c-c706-41f1-bfd1-4c9556d37405",
   "metadata": {},
   "outputs": [
    {
     "name": "stdout",
     "output_type": "stream",
     "text": [
      "Первая матрица (2x3):\n",
      " [[ 2 10  2]\n",
      " [ 7  3  8]]\n",
      "\n",
      "Вторая матрица (3x2):\n",
      " [[ 6  3]\n",
      " [ 7 10]\n",
      " [ 5  2]]\n",
      "\n",
      "Результат умножения (2x2):\n",
      " [[ 92 110]\n",
      " [103  67]]\n"
     ]
    }
   ],
   "source": [
    "import numpy as np\n",
    "\n",
    "# Создаем матрицы\n",
    "matrix1 = np.random.randint(1, 11, size=(2, 3))\n",
    "matrix2 = np.random.randint(1, 11, size=(3, 2))\n",
    "\n",
    "# Выполняем матричное умножение\n",
    "result = matrix1 @ matrix2  # Можно также использовать np.dot(matrix1, matrix2)\n",
    "\n",
    "# Выводим результаты\n",
    "print(\"Первая матрица (2x3):\\n\", matrix1)\n",
    "print(\"\\nВторая матрица (3x2):\\n\", matrix2)\n",
    "print(\"\\nРезультат умножения (2x2):\\n\", result)"
   ]
  },
  {
   "cell_type": "code",
   "execution_count": 25,
   "id": "8a492179-f29f-44e6-ab16-6f3a94c7529c",
   "metadata": {},
   "outputs": [
    {
     "name": "stdout",
     "output_type": "stream",
     "text": [
      "Исходная матрица:\n",
      " [[9 5 4]\n",
      " [7 5 6]\n",
      " [4 1 6]]\n",
      "\n",
      "Определитель матрицы: 74.0\n",
      "\n",
      "Обратная матрица (округлено до 3 знаков):\n",
      " [[ 0.324 -0.351  0.135]\n",
      " [-0.243  0.514 -0.351]\n",
      " [-0.176  0.149  0.135]]\n"
     ]
    }
   ],
   "source": [
    "import numpy as np\n",
    "\n",
    "# Создаем случайную матрицу 3x3 с целыми числами от 1 до 10\n",
    "matrix = np.random.randint(1, 10, size=(3, 3))\n",
    "\n",
    "# Вычисляем определитель\n",
    "det = np.linalg.det(matrix)\n",
    "\n",
    "print(\"Исходная матрица:\\n\", matrix)\n",
    "print(\"\\nОпределитель матрицы:\", round(det, 2))\n",
    "\n",
    "# Проверяем обратимость матрицы (с учетом погрешности вычислений)\n",
    "if not np.isclose(det, 0, atol=1e-6):\n",
    "    # Вычисляем обратную матрицу\n",
    "    inv_matrix = np.linalg.inv(matrix)\n",
    "    print(\"\\nОбратная матрица (округлено до 3 знаков):\\n\", np.round(inv_matrix, 3))\n",
    "else:\n",
    "    print(\"\\nМатрица вырождена, обратной не существует\")"
   ]
  },
  {
   "cell_type": "code",
   "execution_count": 29,
   "id": "867651d5-d22b-44c0-aa1f-8a287fe8e707",
   "metadata": {},
   "outputs": [
    {
     "name": "stdout",
     "output_type": "stream",
     "text": [
      "Исходная матрица:\n",
      "[[24  6 45  9]\n",
      " [35 30 40  6]\n",
      " [19 32 29 42]\n",
      " [ 8 35 29 21]]\n",
      "\n",
      "Транспонированная матрица:\n",
      "[[24 35 19  8]\n",
      " [ 6 30 32 35]\n",
      " [45 40 29 29]\n",
      " [ 9  6 42 21]]\n",
      "\n",
      "След матрицы: 104\n"
     ]
    }
   ],
   "source": [
    "import numpy as np\n",
    "\n",
    "# Создаем матрицу 4x4 со случайными числами от 1 до 50\n",
    "matrix = np.random.randint(1, 51, size=(4, 4))\n",
    "\n",
    "# Вычисляем транспонированную матрицу и след\n",
    "transposed = matrix.T\n",
    "trace = np.trace(matrix)\n",
    "\n",
    "print(\"Исходная матрица:\")\n",
    "print(matrix)\n",
    "print(\"\\nТранспонированная матрица:\")\n",
    "print(transposed)\n",
    "print(\"\\nСлед матрицы:\", trace)"
   ]
  },
  {
   "cell_type": "code",
   "execution_count": 32,
   "id": "421eb450-797d-433f-b5f0-47e82810ce13",
   "metadata": {},
   "outputs": [
    {
     "name": "stdout",
     "output_type": "stream",
     "text": [
      "Решение системы:\n",
      "x = 1.64\n",
      "y = 0.58\n",
      "z = 0.01\n"
     ]
    }
   ],
   "source": [
    "import numpy as np\n",
    "\n",
    "# Создаем матрицу коэффициентов A\n",
    "A = np.array([\n",
    "    [2, 3, -1],\n",
    "    [4, -1, 2],\n",
    "    [-3, 5, 4]\n",
    "])\n",
    "\n",
    "# Создаем вектор правой части B\n",
    "B = np.array([5, 6, -2])\n",
    "\n",
    "# Решаем систему уравнений\n",
    "solution = np.linalg.solve(A, B)\n",
    "\n",
    "# Выводим результат\n",
    "print(\"Решение системы:\")\n",
    "print(f\"x = {solution[0]:.2f}\")\n",
    "print(f\"y = {solution[1]:.2f}\")\n",
    "print(f\"z = {solution[2]:.2f}\")"
   ]
  },
  {
   "cell_type": "markdown",
   "id": "a808085a-54b6-4e99-9d85-ff8a79df9512",
   "metadata": {},
   "source": [
    "Индивидуальное задание №5\n"
   ]
  },
  {
   "cell_type": "code",
   "execution_count": null,
   "id": "fae750f0-d9ac-4dc2-97eb-11998e212c3f",
   "metadata": {},
   "outputs": [],
   "source": [
    "import numpy as np\n",
    "A = np.array([\n",
    "    [1, 1, 1],\n",
    "    [-1, 1, 0],\n",
    "    [0, -2, 1]])\n",
    "b = np.array([100, 10, 0])\n",
    "def cramer_solve(A, b):\n",
    "    det_A = np.linalg.det(A)\n",
    "    A_x = A.copy()\n",
    "    A_x[:, 0] = b\n",
    "    det_Ax = np.linalg.det(A_x)\n",
    "    A_y = A.copy()\n",
    "    A_y[:, 1] = b\n",
    "    det_Ay = np.linalg.det(A_y)\n",
    "    A_z = A.copy()\n",
    "    A_z[:, 2] = b\n",
    "    det_Az = np.linalg.det(A_z)\n",
    "    x = det_Ax / det_A\n",
    "    y = det_Ay / det_A\n",
    "    z = det_Az / det_A\n",
    "    return np.array([x, y, z])\n",
    "cramer_solution = cramer_solve(A, b)\n",
    "print(\"Решение методом Крамера:\", cramer_solution)\n",
    "def matrix_method_solve(A, b):\n",
    "    A_inv = np.linalg.inv(A)\n",
    "    x = A_inv @ b\n",
    "    return x\n",
    "matrix_solution = matrix_method_solve(A, b)\n",
    "print(\"Решение матричным методом:\", matrix_solution)\n",
    "numpy_solution = np.linalg.solve(A, b)\n",
    "print(\"Решение с помощью np.linalg.solve:\", numpy_solution)"
   ]
  }
 ],
 "metadata": {
  "kernelspec": {
   "display_name": "Python [conda env:base] *",
   "language": "python",
   "name": "conda-base-py"
  },
  "language_info": {
   "codemirror_mode": {
    "name": "ipython",
    "version": 3
   },
   "file_extension": ".py",
   "mimetype": "text/x-python",
   "name": "python",
   "nbconvert_exporter": "python",
   "pygments_lexer": "ipython3",
   "version": "3.12.7"
  }
 },
 "nbformat": 4,
 "nbformat_minor": 5
}
